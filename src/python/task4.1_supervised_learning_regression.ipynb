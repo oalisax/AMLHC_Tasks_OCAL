{
 "cells": [
  {
   "cell_type": "markdown",
   "id": "36170537",
   "metadata": {},
   "source": [
    "# **Task 4.1**\n",
    "\n",
    "- Load dataset (heartdata.csv)\n",
    "    - Use pandas.read_csv()\n",
    "\n",
    "- Check assumptions of a linear regression model, see also Linear Regression Tutorial\n",
    "    - Use df.corr() and scipy.stats.pearsonr() for correlation tests\n",
    "    - Use matplotlib.pyplot.hist() for histogram plots\n",
    "    - Use seaborn.pairplot() or matplotlib.pyplot.scatter() for visualizing relationships\n",
    "\n",
    "- Fit a linear regression model\n",
    "    - Use LinearRegression from sklearn.linear_model\n",
    "    - Fit the model using .fit(X, y)\n",
    "\n",
    "- Evaluate the model\n",
    "    - Use .coef_ and .intercept_ to extract coefficients\n",
    "    - Use sklearn.metrics.r2_score() for model performance\n",
    "    - Use matplotlib.pyplot.scatter() to visualize predictions\n",
    "\n",
    "- Train the model using cross-validation\n",
    "    - Use train_test_split from sklearn.model_selection\n",
    "    - Fit model on training data and evaluate on test data"
   ]
  },
  {
   "cell_type": "code",
   "execution_count": 1,
   "id": "e6b67db5",
   "metadata": {},
   "outputs": [
    {
     "name": "stdout",
     "output_type": "stream",
     "text": [
      "           biking     smoking  heartdisease\n",
      "count  498.000000  498.000000    498.000000\n",
      "mean    37.788411   15.435034     10.174538\n",
      "std     21.481519    8.289959      4.571874\n",
      "min      1.119154    0.525850      0.551898\n",
      "25%     20.204598    8.279776      6.513683\n",
      "50%     35.824459   15.814614     10.385255\n",
      "75%     57.852786   22.568925     13.724024\n",
      "max     74.907111   29.946743     20.453496\n",
      "      biking    smoking  heartdisease\n",
      "1  30.801246  10.896608     11.769423\n",
      "2  65.129215   2.219563      2.854081\n",
      "3   1.959665  17.588331     17.177803\n",
      "4  44.800196   2.802559      6.816647\n",
      "5  69.428454  15.974505      4.062224\n"
     ]
    }
   ],
   "source": [
    "# Preparations\n",
    "\n",
    "import pandas as pd\n",
    "\n",
    "# load the CSV file into a DataFrame\n",
    "heart_df = pd.read_csv('heartdata.csv', index_col=0)\n",
    "print(heart_df.describe())  # prints a statistical summary of a dataset\n",
    "print(heart_df.head())  #prints the first 5 rows of a dataset"
   ]
  },
  {
   "cell_type": "code",
   "execution_count": null,
   "id": "21c690fe",
   "metadata": {},
   "outputs": [
    {
     "name": "stdout",
     "output_type": "stream",
     "text": [
      "                biking   smoking  heartdisease\n",
      "biking        1.000000  0.015136     -0.935455\n",
      "smoking       0.015136  1.000000      0.309131\n",
      "heartdisease -0.935455  0.309131      1.000000\n",
      "Correlation: -0.9354554743738543\n",
      "P-value: 3.549744548626203e-226\n",
      "Correlation: 0.3091309790873179\n",
      "P-value: 1.7293758902652505e-12\n"
     ]
    }
   ],
   "source": [
    "# Check assumptions of a linear regression model\n",
    "\n",
    "\"\"\"\n",
    "To use linear regression, variables have to be normally distributed and not correlated\n",
    "additionally the relationship between the independent and depentend variable is linear\n",
    "\"\"\"\n",
    "\n",
    "print(heart_df.corr()) # correlation matrix to check for correlation\n",
    "\n",
    "\"\"\"\n",
    "there is a strong correlation between biking and heart disease, but a small correlation between heart disease and smoking\n",
    "the correlation between biking and smoking is even smaller\n",
    "Correlation =/= causation\n",
    "\"\"\"\n",
    "\n",
    "from scipy.stats import pearsonr\n",
    "\n",
    "# Correlation between heartdiease and biking\n",
    "corr, p_value = pearsonr(heart_df['heartdisease'], heart_df['biking'])\n",
    "print(\"Correlation:\", corr)\n",
    "print(\"P-value:\", p_value)\n",
    "\n",
    "\"\"\"\n",
    "Correlation: -0.9354554743738543\n",
    "P-value: 3.549744548626203e-226\n",
    "interpretation: significant strong negative correlation between heartdisease and biking\n",
    "\"\"\"\n",
    "\n",
    "# Correlation between heartdisease and smoking\n",
    "corr, p_value = pearsonr(heart_df['heartdisease'], heart_df['smoking'])\n",
    "print(\"Correlation:\", corr)\n",
    "print(\"P-value:\", p_value)\n",
    "\n",
    "\"\"\"\n",
    "Correlation: 0.3091309790873179\n",
    "P-value: 1.7293758902652505e-12\n",
    "interpretation: signifikant weak positive correlation between heartdisease and biking\n",
    "\"\"\"\n",
    "\n",
    "# Visualization with histogram plots\n",
    "\n",
    "import matplotlib.pyplot as plt\n",
    "\n",
    "# Histogram of 'heartdisease'\n",
    "plt.hist(heart_df['heartdisease'], bins=20)\n",
    "plt.title('Age Distribution')\n",
    "plt.xlabel('Age')\n",
    "plt.ylabel('Frequency')\n",
    "plt.show()\n",
    "\n",
    "# normally distributed\n",
    "\n",
    "# Histogram of 'biking'\n",
    "plt.hist(heart_df['biking'], bins=20)\n",
    "plt.title('Age Distribution')\n",
    "plt.xlabel('Age')\n",
    "plt.ylabel('Frequency')\n",
    "plt.show()\n",
    "\n",
    "# not normally distributed\n",
    "\n",
    "# Histogram of 'smoking'\n",
    "plt.hist(heart_df['smoking'], bins=20)\n",
    "plt.title('Age Distribution')\n",
    "plt.xlabel('Age')\n",
    "plt.ylabel('Frequency')\n",
    "plt.show()\n",
    "\n",
    "# not normally distributed\n",
    "\n",
    "# Visualization of relationships between variables\n",
    "import seaborn as sns\n",
    "\n",
    "# Pairplot to see scatterplots and distributions\n",
    "sns.pairplot(heart_df)\n",
    "plt.show()\n",
    "\n",
    "\n",
    "# interpretation: all variables can be used for linear regression"
   ]
  },
  {
   "cell_type": "code",
   "execution_count": null,
   "id": "a78c163b",
   "metadata": {},
   "outputs": [
    {
     "name": "stdout",
     "output_type": "stream",
     "text": [
      "<bound method LinearRegression.fit of LinearRegression()>\n"
     ]
    }
   ],
   "source": [
    "# Fitting a linear regression model\n",
    "\n",
    "from sklearn.linear_model import LinearRegression\n",
    "\n",
    "# Define features and target\n",
    "X = heart_df[['biking', 'smoking']]  # predictors\n",
    "y = heart_df['heartdisease']  # target variable\n",
    "\n",
    "# Initialize and fit the model\n",
    "model = LinearRegression()\n",
    "model.fit(X, y)   # model is trained using least squares"
   ]
  },
  {
   "cell_type": "code",
   "execution_count": null,
   "id": "15392140",
   "metadata": {},
   "outputs": [
    {
     "name": "stdout",
     "output_type": "stream",
     "text": [
      "Intercept: 14.984657987225848\n",
      "Coefficients: [-0.20013305  0.17833391]\n",
      "R^2 Score: 0.9796174523377278\n"
     ]
    },
    {
     "data": {
      "image/png": "[encoded data removed]",
      "text/plain": [
       "<Figure size 640x480 with 1 Axes>"
      ]
     },
     "metadata": {},
     "output_type": "display_data"
    }
   ],
   "source": [
    "# Model evaluation\n",
    "\n",
    "print(\"Intercept:\", model.intercept_)\n",
    "print(\"Coefficients:\", model.coef_)\n",
    "\n",
    "\"\"\"\n",
    "Intercept: 14.984657987225848\n",
    "Coefficients: [-0.20013305  0.17833391]\n",
    "\n",
    "Interpretation: biking lowers heartdisease; smoking increases heartdisease\n",
    "\"\"\"\n",
    "\n",
    "# model performance\n",
    "from sklearn.metrics import r2_score\n",
    "\n",
    "# Predict on training data\n",
    "y_pred = model.predict(X)\n",
    "\n",
    "# R² score\n",
    "print(\"R^2 Score:\", r2_score(y, y_pred))\n",
    "\n",
    "\"\"\"\n",
    "R^2 Score: 0.9796174523377278\n",
    "Interpretation: the high R^2 indicated a very good model fit\n",
    "\"\"\"\n",
    "\n",
    "# Visualization of predictions\n",
    "\n",
    "plt.scatter(y, y_pred)\n",
    "plt.xlabel(\"Actual Target\")\n",
    "plt.ylabel(\"Predicted Target\")\n",
    "plt.title(\"Actual vs Predicted\")\n",
    "plt.show()\n",
    "\n",
    "# Interpretation: the prediction of the model seems very good"
   ]
  },
  {
   "cell_type": "code",
   "execution_count": null,
   "id": "9c6b4549",
   "metadata": {},
   "outputs": [
    {
     "name": "stdout",
     "output_type": "stream",
     "text": [
      "Test R^2 Score: 0.9751106638392245\n"
     ]
    }
   ],
   "source": [
    "# training the model with Cross-Validation -->> this part was solved with the help of ChatGPT\n",
    "\n",
    "from sklearn.model_selection import train_test_split\n",
    "\n",
    "# splitting the dataset in training and test data: 80% train, 20% test\n",
    "X_train, X_test, y_train, y_test = train_test_split(X, y, test_size=0.2, random_state=42)\n",
    "\n",
    "# Train on training set\n",
    "model.fit(X_train, y_train)\n",
    "\n",
    "# Predict on test set\n",
    "y_test_pred = model.predict(X_test)\n",
    "\n",
    "# Evaluate performance (comparison of predictions)\n",
    "print(\"Test R^2 Score:\", r2_score(y_test, y_test_pred))\n",
    "\n",
    "\"\"\"\n",
    "Result:Test R^2 Score: 0.9751106638392245\n",
    "\n",
    "Interpretation: the Model trains nearly as good on new data, than it does on test data\n",
    "\"\"\""
   ]
  }
 ],
 "metadata": {
  "kernelspec": {
   "display_name": "venv",
   "language": "python",
   "name": "python3"
  },
  "language_info": {
   "codemirror_mode": {
    "name": "ipython",
    "version": 3
   },
   "file_extension": ".py",
   "mimetype": "text/x-python",
   "name": "python",
   "nbconvert_exporter": "python",
   "pygments_lexer": "ipython3",
   "version": "3.13.2"
  }
 },
 "nbformat": 4,
 "nbformat_minor": 5
}
