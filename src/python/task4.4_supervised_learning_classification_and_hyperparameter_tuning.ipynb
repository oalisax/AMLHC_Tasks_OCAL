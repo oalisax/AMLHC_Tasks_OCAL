{
 "cells": [
  {
   "cell_type": "markdown",
   "id": "b3fb64d3",
   "metadata": {},
   "source": [
    "# Task 4.4 Supervised Learning - Classification and hyperparameter tuning\n",
    "\n",
    "- Load Dataset\n",
    "    - Use the COX-2 Activity dataset (see also caret datasets). Try to understand the research question. \n",
    "- Split the Dataset\n",
    "    - Use train_test_split() to create 75% training and 25% test sets.\n",
    "- Select a Learning Method\n",
    "    - Use RandomForestClassifier from sklearn.ensemble.\n",
    "    - Apply preprocessing (scaling/centering) if necessary.\n",
    "- (Optional) Define a Tuning Grid\n",
    "    - Use GridSearchCV to tune hyperparameters (e.g., n_estimators, max_depth, mtry).\n",
    "- Perform 10-Fold Cross-Validation\n",
    "    - Use cross_val_score or define cv=10 inside GridSearchCV.\n",
    "- Analyze Performance\n",
    "    - Print model performance metrics and feature importances (model.feature_importances_).\n",
    "- Apply the Final Model\n",
    "    - Use predict() on the test data.\n",
    "    - Evaluate performance using mean_squared_error, r2_score, or similar metrics.\n",
    "    - IMPORTANT: If preprocessing was applied, apply the same transformation to the test set before prediction."
   ]
  },
  {
   "cell_type": "code",
   "execution_count": 11,
   "id": "c9f821e7",
   "metadata": {},
   "outputs": [
    {
     "name": "stdout",
     "output_type": "stream",
     "text": [
      "Dataset summary:\n",
      "Number of samples: 462\n",
      "Number of features: 256\n",
      "\n",
      "\n",
      "Aufteilung in Training- und Test-Dataset:\n",
      "Training Dataset: 346 samples\n",
      "Test Dataset: 116 samples\n"
     ]
    }
   ],
   "source": [
    "# Preparations\n",
    "\n",
    "import pandas as pd\n",
    "from sklearn.model_selection import train_test_split, GridSearchCV, cross_val_score\n",
    "from sklearn.preprocessing import StandardScaler, LabelEncoder\n",
    "\n",
    "cox2_df = pd.read_csv('cox2.csv')\n",
    "cox2_df.head()\n",
    "\n",
    "print(\"Dataset summary:\")\n",
    "print(f\"Number of samples: {cox2_df.shape[0]}\")\n",
    "print(f\"Number of features: {cox2_df.shape[1] - 1}\")\n",
    "\n",
    "# Encode target variable\n",
    "le = LabelEncoder()\n",
    "y = le.fit_transform(cox2_df['cox2Class'])\n",
    "\n",
    "\n",
    "# Splitting the dataset using train_test_split\n",
    "\n",
    "X = cox2_df.drop('cox2Class', axis=1) \n",
    "y = cox2_df['cox2Class']\n",
    "\n",
    "X_train, X_test, y_train, y_test = train_test_split(\n",
    "    X, y, test_size=0.25, random_state=42\n",
    ")\n",
    "\n",
    "print(f\"\\n\\nAufteilung in Training- und Test-Dataset:\")\n",
    "print(f\"Training Dataset: {X_train.shape[0]} samples\")\n",
    "print(f\"Test Dataset: {X_test.shape[0]} samples\")"
   ]
  },
  {
   "cell_type": "code",
   "execution_count": 5,
   "id": "f052d03c",
   "metadata": {},
   "outputs": [],
   "source": [
    "# Fitting a learning method and defining a tuning grid (this part was solved with the help of claude.ai)\n",
    "\n",
    "from sklearn.ensemble import RandomForestClassifier\n",
    "from sklearn.preprocessing import StandardScaler\n",
    "from sklearn.pipeline import Pipeline\n",
    "\n",
    "pipeline = Pipeline([\n",
    "    ('scaler', StandardScaler()),  # Standardize features\n",
    "    ('rf', RandomForestClassifier(random_state=42))  # Random Forest model\n",
    "])\n",
    "\n",
    "param_grid = {\n",
    "    'rf__n_estimators': [50, 100, 200],\n",
    "    'rf__max_depth': [None, 10, 20, 30],\n",
    "    'rf__min_samples_split': [2, 5, 10],\n",
    "    'rf__max_features': ['sqrt', 'log2', None]\n",
    "}"
   ]
  },
  {
   "cell_type": "code",
   "execution_count": 7,
   "id": "fd690405",
   "metadata": {},
   "outputs": [
    {
     "name": "stdout",
     "output_type": "stream",
     "text": [
      "\n",
      "Performing grid search with 10-fold cross-validation...\n",
      "Fitting 10 folds for each of 108 candidates, totalling 1080 fits\n",
      "\n",
      "Best parameters: {'rf__max_depth': None, 'rf__max_features': None, 'rf__min_samples_split': 2, 'rf__n_estimators': 50}\n",
      "Best cross-validation accuracy score: 1.0000\n"
     ]
    }
   ],
   "source": [
    "# Performing 10-fold cross-validation (this part was solved with the help of claude.ai)\n",
    "\n",
    "grid_search = GridSearchCV(\n",
    "    pipeline,\n",
    "    param_grid,\n",
    "    cv=10,  # 10-fold cross-validation\n",
    "    scoring='accuracy',  # Use appropriate metric for classification\n",
    "    verbose=1,\n",
    "    n_jobs=-1\n",
    ")\n",
    "\n",
    "# Fit the grid search model\n",
    "print(\"\\nPerforming grid search with 10-fold cross-validation...\")\n",
    "grid_search.fit(X_train, y_train)\n",
    "\n",
    "# Print the best parameters and score\n",
    "print(\"\\nBest parameters:\", grid_search.best_params_)\n",
    "print(f\"Best cross-validation accuracy score: {grid_search.best_score_:.4f}\")"
   ]
  },
  {
   "cell_type": "code",
   "execution_count": 8,
   "id": "18edbab8",
   "metadata": {},
   "outputs": [
    {
     "name": "stdout",
     "output_type": "stream",
     "text": [
      "\n",
      "Cross-validation scores:\n",
      "Mean cross-validation Accuracy: 1.0000\n",
      "Standard deviation of cross validation Accuracy: 0.0000\n",
      "\n",
      "Feature importances:\n",
      "             Feature  Importance\n",
      "255             IC50         1.0\n",
      "0     QikProp_.stars         0.0\n",
      "2      QikProp_.acid         0.0\n",
      "1     QikProp_.amine         0.0\n",
      "4    QikProp_.rctvFG         0.0\n",
      "5        QikProp_CNS         0.0\n",
      "6         QikProp_MW         0.0\n",
      "3     QikProp_.rotor         0.0\n",
      "8       QikProp_SASA         0.0\n",
      "9       QikProp_FOSA         0.0\n",
      "10      QikProp_FISA         0.0\n",
      "11      QikProp_PISA         0.0\n",
      "12      QikProp_WPSA         0.0\n",
      "13    QikProp_volume         0.0\n",
      "14   QikProp_donorHB         0.0\n"
     ]
    }
   ],
   "source": [
    "# analyzing performance (this part was solved using claude.ai)\n",
    "\n",
    "best_model = grid_search.best_estimator_\n",
    "print(\"\\nCross-validation scores:\")\n",
    "cv_scores = cross_val_score(\n",
    "    best_model, X_train, y_train, cv=10, scoring='accuracy'\n",
    ")\n",
    "print(f\"Mean cross-validation Accuracy: {cv_scores.mean():.4f}\")\n",
    "print(f\"Standard deviation of cross validation Accuracy: {cv_scores.std():.4f}\")\n",
    "\n",
    "# Extract feature importances\n",
    "feature_importances = best_model.named_steps['rf'].feature_importances_\n",
    "features_df = pd.DataFrame({\n",
    "    'Feature': X.columns,\n",
    "    'Importance': feature_importances\n",
    "}).sort_values('Importance', ascending=False)\n",
    "\n",
    "print(\"\\nFeature importances:\")\n",
    "print(features_df.head(15))  # Show top 15 features"
   ]
  },
  {
   "cell_type": "code",
   "execution_count": 13,
   "id": "6ce23328",
   "metadata": {},
   "outputs": [
    {
     "name": "stdout",
     "output_type": "stream",
     "text": [
      "\n",
      "Test set performance:\n",
      "Accuracy: 1.0000\n",
      "\n",
      "Confusion Matrix:\n",
      "[[26  0]\n",
      " [ 0 90]]\n",
      "\n",
      "Classification Report:\n",
      "              precision    recall  f1-score   support\n",
      "\n",
      "      Active       1.00      1.00      1.00        26\n",
      "    Inactive       1.00      1.00      1.00        90\n",
      "\n",
      "    accuracy                           1.00       116\n",
      "   macro avg       1.00      1.00      1.00       116\n",
      "weighted avg       1.00      1.00      1.00       116\n",
      "\n"
     ]
    },
    {
     "data": {
      "text/plain": [
       "Text(0.5, 1.0, 'Confusion Matrix')"
      ]
     },
     "execution_count": 13,
     "metadata": {},
     "output_type": "execute_result"
    },
    {
     "data": {
      "image/png": "[encoded data removed]",
      "text/plain": [
       "<Figure size 800x600 with 2 Axes>"
      ]
     },
     "metadata": {},
     "output_type": "display_data"
    }
   ],
   "source": [
    "# applying the final model\n",
    "\n",
    "from sklearn.metrics import accuracy_score, classification_report, confusion_matrix\n",
    "import matplotlib.pyplot as plt\n",
    "from sklearn.metrics import roc_curve, auc\n",
    "import seaborn as sns\n",
    "import numpy as np\n",
    "\n",
    "y_pred = best_model.predict(X_test)\n",
    "y_pred_proba = best_model.predict_proba(X_test)[:, 1]  # For ROC curve\n",
    "\n",
    "# Calculating performance metrics\n",
    "accuracy = accuracy_score(y_test, y_pred)\n",
    "conf_matrix = confusion_matrix(y_test, y_pred)\n",
    "\n",
    "print(\"\\nTest set performance:\")\n",
    "print(f\"Accuracy: {accuracy:.4f}\")\n",
    "print(\"\\nConfusion Matrix:\")\n",
    "print(conf_matrix)\n",
    "print(\"\\nClassification Report:\")\n",
    "print(classification_report(y_test, y_pred, target_names=le.classes_))\n",
    "\n",
    "# confusion matrix\n",
    "plt.figure(figsize=(8, 6))\n",
    "sns.heatmap(conf_matrix, annot=True, fmt='d', cmap='Blues',\n",
    "            xticklabels=['Class 0', 'Class 1'],\n",
    "            yticklabels=['Class 0', 'Class 1'])\n",
    "plt.xlabel('Predicted Label')\n",
    "plt.ylabel('True Label')\n",
    "plt.title('Confusion Matrix')"
   ]
  },
  {
   "cell_type": "markdown",
   "id": "dcf05f4e",
   "metadata": {},
   "source": [
    "# **Interpretation**\n",
    " eine Accuracy von 100% ist ein Hinweis darauf, dass möglicherweise Overfitting vorliegt. Dies sollte daher bedacht werden.\n",
    " Ist das nicht der Fall, kann es sich bei den Daten um sehr klare Unterscheidungen handeln."
   ]
  }
 ],
 "metadata": {
  "kernelspec": {
   "display_name": "venv",
   "language": "python",
   "name": "python3"
  },
  "language_info": {
   "codemirror_mode": {
    "name": "ipython",
    "version": 3
   },
   "file_extension": ".py",
   "mimetype": "text/x-python",
   "name": "python",
   "nbconvert_exporter": "python",
   "pygments_lexer": "ipython3",
   "version": "3.13.2"
  }
 },
 "nbformat": 4,
 "nbformat_minor": 5
}
