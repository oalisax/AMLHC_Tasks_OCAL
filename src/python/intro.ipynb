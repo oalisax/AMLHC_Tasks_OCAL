{
 "cells": [
  {
   "cell_type": "markdown",
   "metadata": {},
   "source": [
    "# Preparations "
   ]
  },
  {
   "cell_type": "code",
   "execution_count": 28,
   "metadata": {},
   "outputs": [],
   "source": [
    "#import libraries\n",
    "import pandas as pd\n",
    "import numpy as np\n",
    "from sklearn import datasets"
   ]
  },
  {
   "cell_type": "code",
   "execution_count": null,
   "metadata": {},
   "outputs": [],
   "source": [
    "# Iris dataset\n",
    "iris = datasets.load_iris(return_X_y=True, as_frame=True)\n",
    "iris_df = iris[0] #use first iris data set"
   ]
  },
  {
   "cell_type": "markdown",
   "metadata": {},
   "source": [
    "solving the setting up issues: \n",
    "```Bash\n",
    "Set-ExecutionPolicy -ExecutionPolicy RemoteSigned -Scope CurrentUser #issue resolved with ChatGPT\n",
    "\n",
    "virtualenv venv # create new venv\n",
    "\n",
    ".\\venv\\Scripts\\activate #activate current venv\n",
    "```"
   ]
  },
  {
   "cell_type": "code",
   "execution_count": 6,
   "metadata": {},
   "outputs": [
    {
     "data": {
      "application/vnd.microsoft.datawrangler.viewer.v0+json": {
       "columns": [
        {
         "name": "index",
         "rawType": "int64",
         "type": "integer"
        },
        {
         "name": "sepal length (cm)",
         "rawType": "float64",
         "type": "float"
        },
        {
         "name": "sepal width (cm)",
         "rawType": "float64",
         "type": "float"
        },
        {
         "name": "petal length (cm)",
         "rawType": "float64",
         "type": "float"
        },
        {
         "name": "petal width (cm)",
         "rawType": "float64",
         "type": "float"
        }
       ],
       "conversionMethod": "pd.DataFrame",
       "ref": "c776fd5d-418b-49ec-a0f9-5b1a30ecee9b",
       "rows": [
        [
         "0",
         "5.1",
         "3.5",
         "1.4",
         "0.2"
        ],
        [
         "1",
         "4.9",
         "3.0",
         "1.4",
         "0.2"
        ],
        [
         "2",
         "4.7",
         "3.2",
         "1.3",
         "0.2"
        ],
        [
         "3",
         "4.6",
         "3.1",
         "1.5",
         "0.2"
        ],
        [
         "4",
         "5.0",
         "3.6",
         "1.4",
         "0.2"
        ]
       ],
       "shape": {
        "columns": 4,
        "rows": 5
       }
      },
      "text/html": [
       "<div>\n",
       "<style scoped>\n",
       "    .dataframe tbody tr th:only-of-type {\n",
       "        vertical-align: middle;\n",
       "    }\n",
       "\n",
       "    .dataframe tbody tr th {\n",
       "        vertical-align: top;\n",
       "    }\n",
       "\n",
       "    .dataframe thead th {\n",
       "        text-align: right;\n",
       "    }\n",
       "</style>\n",
       "<table border=\"1\" class=\"dataframe\">\n",
       "  <thead>\n",
       "    <tr style=\"text-align: right;\">\n",
       "      <th></th>\n",
       "      <th>sepal length (cm)</th>\n",
       "      <th>sepal width (cm)</th>\n",
       "      <th>petal length (cm)</th>\n",
       "      <th>petal width (cm)</th>\n",
       "    </tr>\n",
       "  </thead>\n",
       "  <tbody>\n",
       "    <tr>\n",
       "      <th>0</th>\n",
       "      <td>5.1</td>\n",
       "      <td>3.5</td>\n",
       "      <td>1.4</td>\n",
       "      <td>0.2</td>\n",
       "    </tr>\n",
       "    <tr>\n",
       "      <th>1</th>\n",
       "      <td>4.9</td>\n",
       "      <td>3.0</td>\n",
       "      <td>1.4</td>\n",
       "      <td>0.2</td>\n",
       "    </tr>\n",
       "    <tr>\n",
       "      <th>2</th>\n",
       "      <td>4.7</td>\n",
       "      <td>3.2</td>\n",
       "      <td>1.3</td>\n",
       "      <td>0.2</td>\n",
       "    </tr>\n",
       "    <tr>\n",
       "      <th>3</th>\n",
       "      <td>4.6</td>\n",
       "      <td>3.1</td>\n",
       "      <td>1.5</td>\n",
       "      <td>0.2</td>\n",
       "    </tr>\n",
       "    <tr>\n",
       "      <th>4</th>\n",
       "      <td>5.0</td>\n",
       "      <td>3.6</td>\n",
       "      <td>1.4</td>\n",
       "      <td>0.2</td>\n",
       "    </tr>\n",
       "  </tbody>\n",
       "</table>\n",
       "</div>"
      ],
      "text/plain": [
       "   sepal length (cm)  sepal width (cm)  petal length (cm)  petal width (cm)\n",
       "0                5.1               3.5                1.4               0.2\n",
       "1                4.9               3.0                1.4               0.2\n",
       "2                4.7               3.2                1.3               0.2\n",
       "3                4.6               3.1                1.5               0.2\n",
       "4                5.0               3.6                1.4               0.2"
      ]
     },
     "execution_count": 6,
     "metadata": {},
     "output_type": "execute_result"
    }
   ],
   "source": [
    "# checking the virtual environment:\n",
    "\n",
    "iris_df.head() # Ausgabe der ersten fünf Zeilen des DataFrames"
   ]
  },
  {
   "cell_type": "markdown",
   "metadata": {},
   "source": [
    "# **Task 1.1 Inroduction**\n",
    "\n",
    "- create function *calcMeans* using *apply* function\n",
    "- calculates means of each column\n",
    "- *desrcibe* function to validate results of *calcMeans*"
   ]
  },
  {
   "cell_type": "code",
   "execution_count": 8,
   "metadata": {},
   "outputs": [],
   "source": [
    "# function calcMeans: \n",
    "def calcMeans(dataframe):\n",
    "    return dataframe.apply(lambda col: col.mean(), axis=0)"
   ]
  },
  {
   "cell_type": "code",
   "execution_count": 10,
   "metadata": {},
   "outputs": [
    {
     "name": "stdout",
     "output_type": "stream",
     "text": [
      "sepal length (cm)    5.843333\n",
      "sepal width (cm)     3.057333\n",
      "petal length (cm)    3.758000\n",
      "petal width (cm)     1.199333\n",
      "dtype: float64\n"
     ]
    }
   ],
   "source": [
    "# function calcMeans on iris dataset\n",
    "print(calcMeans(iris_df))"
   ]
  },
  {
   "cell_type": "code",
   "execution_count": 11,
   "metadata": {},
   "outputs": [
    {
     "name": "stdout",
     "output_type": "stream",
     "text": [
      "       sepal length (cm)  sepal width (cm)  petal length (cm)  \\\n",
      "count         150.000000        150.000000         150.000000   \n",
      "mean            5.843333          3.057333           3.758000   \n",
      "std             0.828066          0.435866           1.765298   \n",
      "min             4.300000          2.000000           1.000000   \n",
      "25%             5.100000          2.800000           1.600000   \n",
      "50%             5.800000          3.000000           4.350000   \n",
      "75%             6.400000          3.300000           5.100000   \n",
      "max             7.900000          4.400000           6.900000   \n",
      "\n",
      "       petal width (cm)  \n",
      "count        150.000000  \n",
      "mean           1.199333  \n",
      "std            0.762238  \n",
      "min            0.100000  \n",
      "25%            0.300000  \n",
      "50%            1.300000  \n",
      "75%            1.800000  \n",
      "max            2.500000  \n"
     ]
    }
   ],
   "source": [
    "# validate results with describe function\n",
    "print(iris_df.describe())"
   ]
  },
  {
   "cell_type": "markdown",
   "metadata": {},
   "source": [
    "### Results\n",
    "the means resulting from *calcMeans* are the same as using *describe* function"
   ]
  },
  {
   "cell_type": "markdown",
   "metadata": {},
   "source": [
    "# **Task 2.1 Unsupervised preprocessing and visualization**\n",
    "\n",
    "- load dataset food.csv\n",
    "- Get an overview by analyzing dimension, number of missing values and feature scaling\n",
    "- Preprocess data using z-transformation\n",
    "- Perform a principal component analysis\n",
    "- Create a score plot using PC1 and PC2\n",
    "- You will need the following imports:\n",
    "    - *from sklearn.decomposition import PCA*\n",
    "    - *from sklearn.preprocessing import StandardScaler*"
   ]
  },
  {
   "cell_type": "code",
   "execution_count": 2,
   "metadata": {},
   "outputs": [],
   "source": [
    "# preparations\n",
    "from sklearn.decomposition import PCA\n",
    "from sklearn.preprocessing import StandardScaler"
   ]
  },
  {
   "cell_type": "code",
   "execution_count": 31,
   "metadata": {},
   "outputs": [
    {
     "name": "stdout",
     "output_type": "stream",
     "text": [
      "                RedMeat  WhiteMeat  Eggs  Milk  Fish  Cereals  Starch  Nuts  \\\n",
      "Albania            10.1        1.4   0.5   8.9   0.2     42.3     0.6   5.5   \n",
      "Austria             8.9       14.0   4.3  19.9   2.1     28.0     3.6   1.3   \n",
      "Belgium            13.5        9.3   4.1  17.5   4.5     26.6     5.7   2.1   \n",
      "Bulgaria            7.8        6.0   1.6   8.3   1.2     56.7     1.1   3.7   \n",
      "Czechoslovakia      9.7       11.4   2.8  12.5   2.0     34.3     5.0   1.1   \n",
      "Denmark            10.6       10.8   3.7  25.0   9.9     21.9     4.8   0.7   \n",
      "E Germany           8.4       11.6   3.7  11.1   5.4     24.6     6.5   0.8   \n",
      "Finland             9.5        4.9   2.7  33.7   5.8     26.3     5.1   1.0   \n",
      "France             18.0        9.9   3.3  19.5   5.7     28.1     4.8   2.4   \n",
      "Greece             10.2        3.0   2.8  17.6   5.9     41.7     2.2   7.8   \n",
      "Hungary             5.3       12.4   2.9   9.7   0.3     40.1     4.0   5.4   \n",
      "Ireland            13.9       10.0   4.7  25.8   2.2     24.0     6.2   1.6   \n",
      "Italy               9.0        5.1   2.9  13.7   3.4     36.8     2.1   4.3   \n",
      "Netherlands         9.5       13.6   3.6  23.4   2.5     22.4     4.2   1.8   \n",
      "Norway              9.4        4.7   2.7  23.3   9.7     23.0     4.6   1.6   \n",
      "Poland              6.9       10.2   2.7  19.3   3.0     36.1     5.9   2.0   \n",
      "Portugal            6.2        3.7   1.1   4.9  14.2     27.0     5.9   4.7   \n",
      "Romania             6.2        6.3   1.5  11.1   1.0     49.6     3.1   5.3   \n",
      "Spain               7.1        3.4   3.1   8.6   7.0     29.2     5.7   5.9   \n",
      "Sweden              9.9        7.8   3.5  24.7   7.5     19.5     3.7   1.4   \n",
      "Switzerland        13.1       10.1   3.1  23.8   2.3     25.6     2.8   2.4   \n",
      "UK                 17.4        5.7   4.7  20.6   4.3     24.3     4.7   3.4   \n",
      "USSR                9.3        4.6   2.1  16.6   3.0     43.6     6.4   3.4   \n",
      "W Germany          11.4       12.5   4.1  18.8   3.4     18.6     5.2   1.5   \n",
      "Yugoslavia          4.4        5.0   1.2   9.5   0.6     55.9     3.0   5.7   \n",
      "\n",
      "                Fr.Veg  \n",
      "Albania            1.7  \n",
      "Austria            4.3  \n",
      "Belgium            4.0  \n",
      "Bulgaria           4.2  \n",
      "Czechoslovakia     4.0  \n",
      "Denmark            2.4  \n",
      "E Germany          3.6  \n",
      "Finland            1.4  \n",
      "France             6.5  \n",
      "Greece             6.5  \n",
      "Hungary            4.2  \n",
      "Ireland            2.9  \n",
      "Italy              6.7  \n",
      "Netherlands        3.7  \n",
      "Norway             2.7  \n",
      "Poland             6.6  \n",
      "Portugal           7.9  \n",
      "Romania            2.8  \n",
      "Spain              7.2  \n",
      "Sweden             2.0  \n",
      "Switzerland        4.9  \n",
      "UK                 3.3  \n",
      "USSR               2.9  \n",
      "W Germany          3.8  \n",
      "Yugoslavia         3.2  \n"
     ]
    }
   ],
   "source": [
    "# loading the CSV file into a DataFrame\n",
    "food_df= pd.read_csv(\"food.csv\", index_col=0)\n",
    "print(food_df)"
   ]
  },
  {
   "cell_type": "code",
   "execution_count": null,
   "metadata": {},
   "outputs": [
    {
     "name": "stdout",
     "output_type": "stream",
     "text": [
      "(25, 9)\n",
      "RedMeat      0\n",
      "WhiteMeat    0\n",
      "Eggs         0\n",
      "Milk         0\n",
      "Fish         0\n",
      "Cereals      0\n",
      "Starch       0\n",
      "Nuts         0\n",
      "Fr.Veg       0\n",
      "dtype: int64\n",
      "         RedMeat  WhiteMeat       Eggs       Milk       Fish    Cereals  \\\n",
      "count  25.000000  25.000000  25.000000  25.000000  25.000000  25.000000   \n",
      "mean    9.828000   7.896000   2.936000  17.112000   4.284000  32.248000   \n",
      "std     3.347078   3.694081   1.117617   7.105416   3.402533  10.974786   \n",
      "min     4.400000   1.400000   0.500000   4.900000   0.200000  18.600000   \n",
      "25%     7.800000   4.900000   2.700000  11.100000   2.100000  24.300000   \n",
      "50%     9.500000   7.800000   2.900000  17.600000   3.400000  28.000000   \n",
      "75%    10.600000  10.800000   3.700000  23.300000   5.800000  40.100000   \n",
      "max    18.000000  14.000000   4.700000  33.700000  14.200000  56.700000   \n",
      "\n",
      "          Starch       Nuts     Fr.Veg  \n",
      "count  25.000000  25.000000  25.000000  \n",
      "mean    4.276000   3.072000   4.136000  \n",
      "std     1.634085   1.985682   1.803903  \n",
      "min     0.600000   0.700000   1.400000  \n",
      "25%     3.100000   1.500000   2.900000  \n",
      "50%     4.700000   2.400000   3.800000  \n",
      "75%     5.700000   4.700000   4.900000  \n",
      "max     6.500000   7.800000   7.900000  \n",
      "RedMeat       4.4\n",
      "WhiteMeat     1.4\n",
      "Eggs          0.5\n",
      "Milk          4.9\n",
      "Fish          0.2\n",
      "Cereals      18.6\n",
      "Starch        0.6\n",
      "Nuts          0.7\n",
      "Fr.Veg        1.4\n",
      "dtype: float64\n",
      "RedMeat      18.0\n",
      "WhiteMeat    14.0\n",
      "Eggs          4.7\n",
      "Milk         33.7\n",
      "Fish         14.2\n",
      "Cereals      56.7\n",
      "Starch        6.5\n",
      "Nuts          7.8\n",
      "Fr.Veg        7.9\n",
      "dtype: float64\n"
     ]
    }
   ],
   "source": [
    "# analyzing dimension, missing values and feature scaling\n",
    "print(food_df.shape) # gives dimension of dataset\n",
    "\n",
    "# dataset has 25 rows and 9 columns\n",
    "\n",
    "print(food_df.isnull().sum()) # gives total number of missing values per column\n",
    "#print(food_df.isnull().sum().sum()) # gives total number of missing values \n",
    "\n",
    "# dataset has 0 missing values\n",
    "\n",
    "print(food_df.describe()) # gives information about the features per column\n",
    "print(food_df.min())  # smallest value per column\n",
    "print(food_df.max()) # largest value per column"
   ]
  },
  {
   "cell_type": "code",
   "execution_count": null,
   "metadata": {},
   "outputs": [
    {
     "name": "stdout",
     "output_type": "stream",
     "text": [
      "                 RedMeat  WhiteMeat      Eggs      Milk      Fish   Cereals  \\\n",
      "Albania         0.082941  -1.794750 -2.224584 -1.179570 -1.225033  0.934804   \n",
      "Austria        -0.282974   1.686446  1.245621  0.400468 -0.655111 -0.395051   \n",
      "Belgium         1.119699   0.387905  1.062979  0.055732  0.064791 -0.525246   \n",
      "Bulgaria       -0.618396  -0.523837 -1.220051 -1.265754 -0.925074  2.273959   \n",
      "Czechoslovakia -0.039031   0.968104 -0.124197 -0.662467 -0.685107  0.190830   \n",
      "\n",
      "                  Starch      Nuts    Fr.Veg  \n",
      "Albania        -2.295965  1.247968 -1.378251  \n",
      "Austria        -0.422218 -0.910790  0.092789  \n",
      "Belgium         0.889405 -0.499598 -0.076947  \n",
      "Bulgaria       -1.983674  0.322786  0.036210  \n",
      "Czechoslovakia  0.452198 -1.013588 -0.076947  \n",
      "                 RedMeat  WhiteMeat      Eggs      Milk      Fish   Cereals  \\\n",
      "Albania         0.082941  -1.794750 -2.224584 -1.179570 -1.225033  0.934804   \n",
      "Austria        -0.282974   1.686446  1.245621  0.400468 -0.655111 -0.395051   \n",
      "Belgium         1.119699   0.387905  1.062979  0.055732  0.064791 -0.525246   \n",
      "Bulgaria       -0.618396  -0.523837 -1.220051 -1.265754 -0.925074  2.273959   \n",
      "Czechoslovakia -0.039031   0.968104 -0.124197 -0.662467 -0.685107  0.190830   \n",
      "Denmark         0.235405   0.802333  0.697694  1.133031  1.684570 -0.962332   \n",
      "E Germany      -0.435438   1.023361  0.697694 -0.863563  0.334754 -0.711240   \n",
      "Finland        -0.100017  -0.827751 -0.215518  2.382698  0.454738 -0.553145   \n",
      "France          2.491879   0.553676  0.332409  0.343012  0.424742 -0.385751   \n",
      "Greece          0.113434  -1.352693 -0.124197  0.070096  0.484734  0.879006   \n",
      "Hungary        -1.380718   1.244390 -0.032876 -1.064658 -1.195037  0.730211   \n",
      "Ireland         1.241670   0.581305  1.610906  1.247943 -0.625115 -0.767038   \n",
      "Italy          -0.252481  -0.772494 -0.032876 -0.490099 -0.265164  0.423322   \n",
      "Netherlands    -0.100017   1.575932  0.606373  0.903207 -0.535127 -0.915833   \n",
      "Norway         -0.130510  -0.883008 -0.215518  0.888843  1.624578 -0.860035   \n",
      "Poland         -0.892832   0.636562 -0.215518  0.314284 -0.385147  0.358224   \n",
      "Portugal       -1.106282  -1.159294 -1.676657 -1.754130  2.974394 -0.488048   \n",
      "Romania        -1.106282  -0.440952 -1.311372 -0.863563 -0.985066  1.613682   \n",
      "Spain          -0.831846  -1.242179  0.149767 -1.222662  0.814689 -0.283454   \n",
      "Sweden          0.021955  -0.026523  0.515052  1.089939  0.964668 -1.185524   \n",
      "Switzerland     0.997727   0.608933  0.149767  0.960663 -0.595119 -0.618243   \n",
      "UK              2.308921  -0.606723  1.610906  0.501016  0.004799 -0.739139   \n",
      "USSR           -0.161002  -0.910637 -0.763445 -0.073544 -0.385147  1.055700   \n",
      "W Germany       0.479348   1.272018  1.062979  0.242464 -0.265164 -1.269221   \n",
      "Yugoslavia     -1.655154  -0.800123 -1.585336 -1.093386 -1.105049  2.199562   \n",
      "\n",
      "                  Starch      Nuts    Fr.Veg  \n",
      "Albania        -2.295965  1.247968 -1.378251  \n",
      "Austria        -0.422218 -0.910790  0.092789  \n",
      "Belgium         0.889405 -0.499598 -0.076947  \n",
      "Bulgaria       -1.983674  0.322786  0.036210  \n",
      "Czechoslovakia  0.452198 -1.013588 -0.076947  \n",
      "Denmark         0.327281 -1.219184 -0.982202  \n",
      "E Germany       1.389071 -1.167785 -0.303261  \n",
      "Finland         0.514656 -1.064987 -1.547987  \n",
      "France          0.327281 -0.345401  1.337515  \n",
      "Greece         -1.296633  2.430145  1.337515  \n",
      "Hungary        -0.172385  1.196569  0.036210  \n",
      "Ireland         1.201697 -0.756593 -0.699310  \n",
      "Italy          -1.359091  0.631180  1.450672  \n",
      "Netherlands    -0.047468 -0.653795 -0.246682  \n",
      "Norway          0.202365 -0.756593 -0.812467  \n",
      "Poland          1.014322 -0.550997  1.394093  \n",
      "Portugal        1.014322  0.836776  2.129613  \n",
      "Romania        -0.734509  1.145170 -0.755888  \n",
      "Spain           0.889405  1.453564  1.733564  \n",
      "Sweden         -0.359759 -0.859391 -1.208516  \n",
      "Switzerland    -0.921884 -0.345401  0.432259  \n",
      "UK              0.264823  0.168589 -0.472996  \n",
      "USSR            1.326613  0.168589 -0.699310  \n",
      "W Germany       0.577114 -0.807992 -0.190104  \n",
      "Yugoslavia     -0.796967  1.350766 -0.529574  \n"
     ]
    }
   ],
   "source": [
    "# preprocessing data using z-transformation\n",
    "\n",
    "scaler = StandardScaler()               # transformation with sklearn\n",
    "z_scores_sklearn = pd.DataFrame(\n",
    "    scaler.fit_transform(food_df),\n",
    "    index=food_df.index,\n",
    "    columns=food_df.columns\n",
    ")\n",
    "\n",
    "print(z_scores_sklearn)\n",
    "print(z_scores_sklearn.head()) # prints only the first five rows\n",
    "\n",
    "# saving the transformed dataset\n",
    "z_scores_sklearn.to_csv('food_standardized.csv')"
   ]
  },
  {
   "cell_type": "code",
   "execution_count": 54,
   "metadata": {},
   "outputs": [
    {
     "name": "stdout",
     "output_type": "stream",
     "text": [
      "                     PC1       PC2       PC3       PC4       PC5       PC6  \\\n",
      "Albania         3.557238 -1.664102 -1.797551  0.234394  0.023733 -1.055592   \n",
      "Austria        -1.452006 -1.062702  1.365390  0.171564 -0.952695  0.222932   \n",
      "Belgium        -1.655480  0.162784  0.221000  0.531464  0.770661 -0.295781   \n",
      "Bulgaria        3.198708 -1.327895  0.154409  0.218606 -0.494741 -0.709921   \n",
      "Czechoslovakia -0.378104 -0.615096  1.220603 -0.473550  0.262120 -0.840063   \n",
      "Denmark        -2.414042  0.291332 -0.767776 -0.987288 -0.767949 -0.173842   \n",
      "E Germany      -1.451538  0.459586  1.329399 -1.159386  0.431664 -0.661681   \n",
      "Finland        -1.596104 -0.608293 -2.091770 -1.444493  0.037970  0.851402   \n",
      "France         -1.518666  0.801560  0.001921  1.997822  0.255623 -0.917485   \n",
      "Greece          2.285884  1.021701 -0.900803  1.831320 -0.413328  1.168077   \n",
      "Hungary         1.487493 -0.832777  1.953639 -0.221871 -0.042251  0.550225   \n",
      "Ireland        -2.718400 -0.779455 -0.020291  0.443692  1.035305  0.492272   \n",
      "Italy           1.566209  0.407214  0.128690  1.247669 -0.820110  0.218500   \n",
      "Netherlands    -1.675293 -0.930797  0.782294 -0.128753 -0.776976  0.303657   \n",
      "Norway         -0.994802  0.838979 -1.739216 -1.161080 -0.423429 -0.057616   \n",
      "Poland         -0.124383  0.542707  1.505200 -0.467671 -0.023698  0.600431   \n",
      "Portugal        1.741030  4.377375  0.044533 -0.911985 -0.393234 -0.711471   \n",
      "Romania         2.813660 -1.141856  0.071526 -0.627693  0.323635  0.133208   \n",
      "Spain           1.338858  2.606180  0.525909  0.366611  0.526540  0.683089   \n",
      "Sweden         -1.667419 -0.211661 -1.306774 -0.749239 -0.836730  0.044986   \n",
      "Switzerland    -0.931131 -0.766546 -0.157435  1.194580 -0.848095 -0.092103   \n",
      "UK             -1.771153 -0.095917 -1.176451  1.769442  1.106291 -0.098556   \n",
      "USSR            0.798734 -0.113054 -0.377302 -0.946700  1.703985  0.189254   \n",
      "W Germany      -2.137012 -0.299837  0.820558  0.111038 -0.069770 -0.205138   \n",
      "Yugoslavia      3.697717 -1.059434  0.210296 -0.838492  0.385478  0.361217   \n",
      "\n",
      "                     PC7       PC8       PC9  \n",
      "Albania        -0.481470 -0.777255 -0.105382  \n",
      "Austria        -0.184890  0.256178 -0.221930  \n",
      "Belgium        -0.199630  0.207504 -0.033855  \n",
      "Bulgaria        0.474367  0.824911 -0.306046  \n",
      "Czechoslovakia  0.321443 -0.012552 -0.152530  \n",
      "Denmark        -0.230472  0.633827  0.490183  \n",
      "E Germany      -0.566223  0.166542 -0.265261  \n",
      "Finland         0.741206 -0.230576 -0.135834  \n",
      "France          0.965992  0.022678  0.554817  \n",
      "Greece         -0.150430  0.312137  0.395965  \n",
      "Hungary        -0.783941 -0.148621  0.548017  \n",
      "Ireland        -0.029260 -0.023473 -0.081105  \n",
      "Italy           0.153085  0.082064 -0.747453  \n",
      "Netherlands    -0.063376 -0.469410  0.266251  \n",
      "Norway         -0.043670  0.109559 -0.150368  \n",
      "Poland          1.286720 -0.195547 -0.225557  \n",
      "Portugal        0.047458 -0.209250  0.268921  \n",
      "Romania        -0.135823  0.027448  0.345002  \n",
      "Spain          -0.609526 -0.240181 -0.486566  \n",
      "Sweden         -0.552321  0.073707 -0.110627  \n",
      "Switzerland     0.522855 -0.540212  0.067938  \n",
      "UK             -0.664393  0.244142 -0.134657  \n",
      "USSR            0.585940  0.053100  0.093576  \n",
      "W Germany      -0.466196 -0.363983 -0.025800  \n",
      "Yugoslavia      0.062555  0.197261  0.152302  \n",
      "Variance explained by PC1: 44.52%\n",
      "Variance explained by PC2: 18.17%\n"
     ]
    },
    {
     "data": {
      "image/png": "[encoded data removed]",
      "text/plain": [
       "<Figure size 1000x800 with 1 Axes>"
      ]
     },
     "metadata": {},
     "output_type": "display_data"
    }
   ],
   "source": [
    "# performing PCA and creating scoreplot\n",
    "# sources used: https://www.kaggle.com/code/vipulgandhi/pca-beginner-s-guide-to-dimensionality-reduction/notebook\n",
    "\n",
    "pca = PCA()\n",
    "pca_data = pca.fit_transform(z_scores_sklearn)\n",
    "pca_df = pd.DataFrame(\n",
    "    data=pca_data,\n",
    "    columns=[f'PC{i+1}' for i in range(z_scores_sklearn.shape[1])],\n",
    "    index=food_df.index\n",
    ")\n",
    "\n",
    "print(pca_df)\n",
    "\n",
    "# creating scoreplot using PC1 and PC2 [This was solved using Claude.ai. The claude.ai output was then modified]\n",
    "explained_variance = pca.explained_variance_ratio_\n",
    "print(f\"Variance explained by PC1: {explained_variance[0]:.2%}\")\n",
    "print(f\"Variance explained by PC2: {explained_variance[1]:.2%}\")\n",
    "\n",
    "import matplotlib.pyplot as plt\n",
    "\n",
    "plt.figure(figsize=(10, 8))\n",
    "plt.scatter(pca_df['PC1'], pca_df['PC2'], s=80)\n",
    "\n",
    "# Add country labels\n",
    "for i, country in enumerate(pca_df.index):\n",
    "    plt.annotate(country, (pca_df['PC1'].iloc[i], pca_df['PC2'].iloc[i]), fontsize=9)\n",
    "\n",
    "# Add labels\n",
    "plt.xlabel(f'PC1: Red Meat ({explained_variance[0]:.2%} variance)')\n",
    "plt.ylabel(f'PC2: White Meat ({explained_variance[1]:.2%} variance)')\n",
    "plt.title('PCA Score Plot: European Countries by Food Consumption')\n",
    "plt.grid(alpha=0.3)"
   ]
  }
 ],
 "metadata": {
  "kernelspec": {
   "display_name": "venv",
   "language": "python",
   "name": "python3"
  },
  "language_info": {
   "codemirror_mode": {
    "name": "ipython",
    "version": 3
   },
   "file_extension": ".py",
   "mimetype": "text/x-python",
   "name": "python",
   "nbconvert_exporter": "python",
   "pygments_lexer": "ipython3",
   "version": "3.13.2"
  }
 },
 "nbformat": 4,
 "nbformat_minor": 2
}
